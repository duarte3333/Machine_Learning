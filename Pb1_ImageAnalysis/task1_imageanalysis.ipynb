{
  "cells": [
    {
      "cell_type": "markdown",
      "metadata": {
        "colab_type": "text",
        "id": "view-in-github"
      },
      "source": [
        "<a href=\"https://colab.research.google.com/github/duarte3333/Machine_Learning/blob/main/task1_imageanalysis.ipynb\" target=\"_parent\"><img src=\"https://colab.research.google.com/assets/colab-badge.svg\" alt=\"Open In Colab\"/></a>"
      ]
    },
    {
      "cell_type": "code",
      "execution_count": 17,
      "metadata": {},
      "outputs": [],
      "source": [
        "import numpy as np\n",
        "from sklearn.preprocessing import StandardScaler\n",
        "from sklearn.model_selection import train_test_split\n",
        "import matplotlib.pyplot as plt\n",
        "import tensorflow as tf\n",
        "from tensorflow import keras\n",
        "from tensorflow.keras.models import Sequential\n",
        "from tensorflow.keras.layers import Conv2D, MaxPool2D, Flatten, Dense\n",
        "from tensorflow.keras.optimizers import Adam\n",
        "from tensorflow.keras.metrics import categorical_crossentropy\n",
        "from tensorflow.keras.preprocessing.image import ImageDataGenerator\n",
        "from tensorflow.keras.callbacks import EarlyStopping\n",
        "\n",
        "def load_data():\n",
        "    \"\"\" Load the training and test data. \"\"\"\n",
        "    #2352 elements each image: 2352 = pixels x pixels x 3 (RGB)\n",
        "    X = np.load('Xtrain_Classification1.npy') #6254 x 2352. 2352 = pixels x pixels x 3 (RGB). Training set is inbalanced, different number of samples for each class\n",
        "    y = np.load('ytrain_Classification1.npy') #6254. 1D vector\n",
        "    X_t = np.load('Xtest_Classification1.npy') #1764 x 2352. Has data from two distinct sources\n",
        "    return X, y, X_t\n",
        "\n",
        "def preprocess_data(X, X_t):\n",
        "    \"\"\" This function scale the training data to be in the range [0, 1]\n",
        "    and the data type to float32 for numerical stability \"\"\"\n",
        "    Xs = (X).astype('float32') / np.max(X) #Scale down data [0,1]\n",
        "    Xs_test = (X_t).astype('float32') / np.max(X)\n",
        "    return Xs, Xs_test\n",
        "\n",
        "def encode_data(y, Xs, Xs_test):\n",
        "    \"\"\" Enconde data function \"\"\"\n",
        "    train_labels = keras.utils.to_categorical(y,num_classes=2) #One-hot enconding: 6254 x 2 matrix that is 0 or 1 depending on class\n",
        "    train_images = np.reshape(Xs, (len(Xs[:,0]),28,28,3)) #4D array. number of images x width x height x color\n",
        "    test_images = np.reshape(Xs_test, (len(Xs_test[:,0]), 28, 28, 3))\n",
        "    return train_labels, train_images, test_images\n",
        "\n",
        "def shuffle_data(train_images, train_labels):\n",
        "    permutation = np.random.permutation(len(train_images))\n",
        "    train_images_s = train_images[permutation]\n",
        "    train_labels_s = train_labels[permutation]\n",
        "    return train_images_s, train_labels_s\n",
        "\n",
        "def split_data(train_images_s, train_labels_s):\n",
        "    X_train, X_validation, y_train, y_validation = train_test_split(train_images_s, train_labels_s, test_size=0.2)\n",
        "    print(X_train.shape)\n",
        "    print(y_train.shape)\n",
        "    return X_train, X_validation, y_train, y_validation\n",
        "\n",
        "def plot_images(number_images,X_train):\n",
        "  '''Plot a user defined number of images from X_train. Only really works for 10 images'''\n",
        "\n",
        "  number_images = 10\n",
        "\n",
        "  plt.figure(figsize=(12, 6))\n",
        "  for i in range(number_images):\n",
        "      plt.subplot(2, 5, i + 1)\n",
        "      plt.imshow(X_train[i])\n",
        "      plt.title(f\"Image {i+1}\")\n",
        "      plt.axis('off')\n",
        "\n",
        "  plt.tight_layout()\n",
        "  plt.show()"
      ]
    },
    {
      "cell_type": "code",
      "execution_count": 18,
      "metadata": {},
      "outputs": [],
      "source": [
        "X, y, X_t = load_data()\n",
        "Xs, Xs_test = preprocess_data(X, X_t)\n",
        "train_labels, train_images, test_images = encode_data(y, Xs, Xs_test)\n",
        "train_images_s, train_labels_s = shuffle_data(train_images, train_labels)\n",
        "X_train, X_validation, y_train, y_validation = split_data(train_images_s, train_labels_s)"
      ]
    },
    {
      "cell_type": "code",
      "execution_count": null,
      "metadata": {
        "id": "zGXkzJo3Dari"
      },
      "outputs": [],
      "source": [
        "plot_images(10, X_train)"
      ]
    },
    {
      "cell_type": "markdown",
      "metadata": {
        "id": "1ADki9Jp4L0Y"
      },
      "source": [
        "# First approach: MLP with imbalanced data"
      ]
    },
    {
      "cell_type": "code",
      "execution_count": 61,
      "metadata": {
        "id": "t_1yQYkJdxyM"
      },
      "outputs": [],
      "source": [
        "#Building MLP neural network, Sequential (linear stack of Layers)\n",
        "#kernel size 3 by 3 is normal in image data\n",
        "#padding keeps images in the same size\n",
        "#poolsize and strides -> Check notes on notion on maxpooling\n",
        "def MLP_NN():\n",
        "    MLP = Sequential([\n",
        "        Conv2D(filters=32, kernel_size=(3,3), activation = 'relu', padding= 'same', input_shape = (28,28,3)),\n",
        "        MaxPool2D(pool_size =(2,2), strides=2),\n",
        "        Conv2D(filters=64, kernel_size=(3,3), activation = 'relu', padding='same'),\n",
        "        MaxPool2D(pool_size=(2,2), strides=2),\n",
        "        Flatten(), #Flatten is always needed before using fully connected layer (Dense) for output\n",
        "        Dense(units=2, activation='softmax')\n",
        "    ])\n",
        "    #MLP.summary() #See created neural network\n",
        "    return MLP\n",
        "\n",
        "def MLP_NN():\n",
        "    MLP = Sequential([\n",
        "        Conv2D(filters=32, kernel_size=(3,3), activation = 'relu', padding= 'same', input_shape = (28,28,3)),\n",
        "        MaxPool2D(pool_size =(2,2), strides=2),\n",
        "        Conv2D(filters=64, kernel_size=(3,3), activation = 'relu', padding='same'),\n",
        "        MaxPool2D(pool_size=(2,2), strides=2),\n",
        "        Flatten(), #Flatten is always needed before using fully connected layer (Dense) for output\n",
        "        Dense(units=2, activation='softmax')\n",
        "    ])\n",
        "    #MLP.summary() #See created neural network\n",
        "    return MLP\n",
        "\n",
        "def Compile_MLP(MLP):\n",
        "    MLP.compile(optimizer=Adam(learning_rate=0.0001), loss='categorical_crossentropy', metrics=['accuracy'])\n",
        "\n",
        "def train_model(MLP):\n",
        "    early_stop = EarlyStopping(monitor='val_loss', patience=5, restore_best_weights=True)\n",
        "    return MLP.fit(x=X_train, y=y_train, validation_data=(X_validation, y_validation), \\\n",
        "            batch_size=512, epochs=200, shuffle = True, verbose=2, callbacks=[early_stop])\n",
        "\n",
        "def make_predictions(MLP):\n",
        "    predictions = MLP.predict(x = test_images, batch_size = 200, verbose=0) #Returns probability of each class\n",
        "    rounded_predictions= np.argmax(predictions, axis=-1) #Rounds it to 0 or 1\n",
        "    return rounded_predictions\n",
        "    \n",
        "def plot_loss(history):\n",
        "    #Plot loss evolution in each epoch for training and validation set\n",
        "    plt.figure(1)\n",
        "    plt.clf()\n",
        "    plt.plot(history.history['loss'], label='train'),\n",
        "    plt.plot(history.history['val_loss'], label='train'), plt.show()\n",
        "    \n",
        "MLP = MLP_NN()\n",
        "Compile_MLP(MLP)"
      ]
    },
    {
      "cell_type": "code",
      "execution_count": null,
      "metadata": {
        "colab": {
          "base_uri": "https://localhost:8080/",
          "height": 374
        },
        "id": "_HOYhRcuvPXO",
        "outputId": "3052e2b6-7dad-4083-fcb4-f874b5ab0285"
      },
      "outputs": [],
      "source": [
        "history = train_model(MLP) # Train MLP model\n",
        "# Note: Try 'SparseCategoricalCrossEntropy' as loss function."
      ]
    },
    {
      "cell_type": "code",
      "execution_count": 59,
      "metadata": {
        "id": "3fnOsGG_aVxI"
      },
      "outputs": [
        {
          "data": {
            "image/png": "[encoded data removed]",
            "text/plain": [
              "<Figure size 640x480 with 1 Axes>"
            ]
          },
          "metadata": {},
          "output_type": "display_data"
        },
        {
          "name": "stdout",
          "output_type": "stream",
          "text": [
            "Train - Mean loss:  0.26549482345581055\n",
            "Test - Mean Val loss:  0.2814697325229645\n",
            "Accuracy:  0.8810713291168213\n"
          ]
        }
      ],
      "source": [
        "plot_loss(history)\n",
        "print(\"Train - Mean loss: \", (history.history['loss'][-1]))\n",
        "print(\"Test - Mean Val loss: \", np.mean(history.history['val_loss'][-1]))\n",
        "print(\"Accuracy: \", np.mean(history.history['accuracy'][-1]))"
      ]
    },
    {
      "cell_type": "markdown",
      "metadata": {
        "id": "h6Fp_asg9A20"
      },
      "source": [
        "**Right now we have a have an overfitted neural network.**\n",
        "\n",
        "\n"
      ]
    },
    {
      "cell_type": "code",
      "execution_count": 34,
      "metadata": {
        "id": "VvSw5-E2d4QM"
      },
      "outputs": [
        {
          "name": "stdout",
          "output_type": "stream",
          "text": [
            "[0 0 0 ... 0 0 1]\n"
          ]
        }
      ],
      "source": [
        "rounded_predictions = make_predictions(MLP) #Make predictions\n",
        "#Visualize imbalance in training data\n",
        "cont_0 = 0\n",
        "for i in rounded_predictions:\n",
        "  if i == 0:\n",
        "    cont_0 += 1\n",
        "print(cont_0, len(test_images[:,0])-cont_0) #Big difference between classes due to imbalanced training set"
      ]
    },
    {
      "cell_type": "markdown",
      "metadata": {
        "id": "vQMytelA5DJN"
      },
      "source": [
        "# Second approach: MLP with balanced data"
      ]
    },
    {
      "cell_type": "code",
      "execution_count": null,
      "metadata": {
        "id": "6SX9yMqgAGNP"
      },
      "outputs": [],
      "source": [
        "#Create ways to do data augmentation\n",
        "gen = ImageDataGenerator(rotation_range=10, width_shift_range=0.1,\n",
        "                          height_shift_range=0.1, shear_range=0.15,\n",
        "                         zoom_range=0.1, channel_shift_range=10,\n",
        "                         horizontal_flip=True, vertical_flip = True)"
      ]
    }
  ],
  "metadata": {
    "accelerator": "GPU",
    "colab": {
      "gpuType": "T4",
      "include_colab_link": true,
      "provenance": [],
      "toc_visible": true
    },
    "kernelspec": {
      "display_name": "Python 3",
      "name": "python3"
    },
    "language_info": {
      "codemirror_mode": {
        "name": "ipython",
        "version": 3
      },
      "file_extension": ".py",
      "mimetype": "text/x-python",
      "name": "python",
      "nbconvert_exporter": "python",
      "pygments_lexer": "ipython3",
      "version": "3.10.12"
    }
  },
  "nbformat": 4,
  "nbformat_minor": 0
}
